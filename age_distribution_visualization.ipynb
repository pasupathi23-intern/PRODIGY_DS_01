{
 "cells": [
  {
   "cell_type": "markdown",
   "id": "59ab61aa",
   "metadata": {},
   "source": [
    "# Age Distribution Analytics\n",
    "This notebook visualizes the age distribution of a synthetic population, including a gender-wise breakdown. It is intended as a professional-level data visualization mini-project."
   ]
  },
  {
   "cell_type": "code",
   "execution_count": null,
   "id": "2043ec0f",
   "metadata": {},
   "outputs": [],
   "source": [
    "\n",
    "import numpy as np\n",
    "import pandas as pd\n",
    "import matplotlib.pyplot as plt\n",
    "import seaborn as sns\n",
    "\n",
    "# Generate synthetic age and gender data\n",
    "np.random.seed(42)\n",
    "n = 500\n",
    "ages = np.random.normal(loc=35, scale=12, size=n)\n",
    "ages = [int(age) for age in ages if 0 < age < 100]\n",
    "\n",
    "# Ensure we have enough data points\n",
    "while len(ages) < n:\n",
    "    more_ages = np.random.normal(loc=35, scale=12, size=(n - len(ages)))\n",
    "    ages += [int(age) for age in more_ages if 0 < age < 100]\n",
    "\n",
    "# Assign genders randomly\n",
    "genders = np.random.choice(['Male', 'Female'], size=n)\n",
    "\n",
    "# Create DataFrame\n",
    "data = pd.DataFrame({\n",
    "    'Age': ages[:n],\n",
    "    'Gender': genders\n",
    "})\n",
    "data.head()\n"
   ]
  },
  {
   "cell_type": "markdown",
   "id": "dd0e5dfc",
   "metadata": {},
   "source": [
    "## Overall Age Distribution"
   ]
  },
  {
   "cell_type": "code",
   "execution_count": null,
   "id": "cb9b895c",
   "metadata": {},
   "outputs": [],
   "source": [
    "\n",
    "plt.figure(figsize=(10, 6))\n",
    "sns.histplot(data=data, x='Age', bins=15, kde=True, color='skyblue', edgecolor='black')\n",
    "plt.title('Age Distribution in Surveyed Population', fontsize=16)\n",
    "plt.xlabel('Age')\n",
    "plt.ylabel('Number of People')\n",
    "plt.grid(True, linestyle='--', alpha=0.5)\n",
    "plt.tight_layout()\n",
    "plt.savefig(\"age_histogram.png\")\n",
    "plt.show()\n"
   ]
  },
  {
   "cell_type": "markdown",
   "id": "f39e140d",
   "metadata": {},
   "source": [
    "## Age Distribution by Gender"
   ]
  },
  {
   "cell_type": "code",
   "execution_count": null,
   "id": "e31b350c",
   "metadata": {},
   "outputs": [],
   "source": [
    "\n",
    "plt.figure(figsize=(10, 6))\n",
    "sns.histplot(data=data, x='Age', hue='Gender', bins=15, kde=True, palette='Set2', edgecolor='black', multiple='stack')\n",
    "plt.title('Age Distribution by Gender in Surveyed Population', fontsize=16)\n",
    "plt.xlabel('Age')\n",
    "plt.ylabel('Number of People')\n",
    "plt.grid(True, linestyle='--', alpha=0.5)\n",
    "plt.tight_layout()\n",
    "plt.savefig(\"gender_age_histogram.png\")\n",
    "plt.show()\n"
   ]
  },
  {
   "cell_type": "markdown",
   "id": "a1fe93f3",
   "metadata": {},
   "source": [
    "## Code to Save Both Graphs"
   ]
  },
  {
   "cell_type": "code",
   "execution_count": null,
   "id": "d493a857",
   "metadata": {},
   "outputs": [],
   "source": [
    "import matplotlib.pyplot as plt\n",
    "import seaborn as sns\n",
    "import pandas as pd\n",
    "import numpy as np\n",
    "\n",
    "# Recreate data\n",
    "np.random.seed(42)\n",
    "n = 500\n",
    "ages = np.random.normal(loc=35, scale=12, size=n)\n",
    "ages = [int(age) for age in ages if 0 < age < 100]\n",
    "while len(ages) < n:\n",
    "    more_ages = np.random.normal(loc=35, scale=12, size=(n - len(ages)))\n",
    "    ages += [int(age) for age in more_ages if 0 < age < 100]\n",
    "genders = np.random.choice(['Male', 'Female'], size=n)\n",
    "data = pd.DataFrame({'Age': ages[:n], 'Gender': genders})\n",
    "\n",
    "# Save age histogram\n",
    "plt.figure(figsize=(10, 6))\n",
    "sns.histplot(data=data, x='Age', bins=15, kde=True, color='skyblue', edgecolor='black')\n",
    "plt.title('Age Distribution in Surveyed Population')\n",
    "plt.xlabel('Age')\n",
    "plt.ylabel('Number of People')\n",
    "plt.grid(True, linestyle='--', alpha=0.5)\n",
    "plt.tight_layout()\n",
    "plt.savefig(\"age_histogram.png\")\n",
    "plt.close()\n",
    "\n",
    "# Save gender-wise age histogram\n",
    "plt.figure(figsize=(10, 6))\n",
    "sns.histplot(data=data, x='Age', hue='Gender', bins=15, kde=True, palette='Set2', edgecolor='black', multiple='stack')\n",
    "plt.title('Age Distribution by Gender in Surveyed Population')\n",
    "plt.xlabel('Age')\n",
    "plt.ylabel('Number of People')\n",
    "plt.grid(True, linestyle='--', alpha=0.5)\n",
    "plt.tight_layout()\n",
    "plt.savefig(\"gender_age_histogram.png\")\n",
    "plt.close()\n"
   ]
  }
 ],
 "metadata": {
  "kernelspec": {
   "display_name": "Python 3",
   "name": "python3"
  }
 },
 "nbformat": 4,
 "nbformat_minor": 5
}
